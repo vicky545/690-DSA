{
  "nbformat": 4,
  "nbformat_minor": 0,
  "metadata": {
    "colab": {
      "provenance": []
    },
    "kernelspec": {
      "name": "python3",
      "display_name": "Python 3"
    },
    "language_info": {
      "name": "python"
    }
  },
  "cells": [
    {
      "cell_type": "code",
      "execution_count": 1,
      "metadata": {
        "colab": {
          "base_uri": "https://localhost:8080/"
        },
        "id": "TjGOA33CDFug",
        "outputId": "d98ca499-d6b3-4e0f-c9ac-475c8fbfbeaf"
      },
      "outputs": [
        {
          "name": "stdout",
          "output_type": "stream",
          "text": [
            "Please eter your name:Wihar\n"
          ]
        }
      ],
      "source": [
        "userName=input(\"Please eter your name:\")"
      ]
    },
    {
      "cell_type": "code",
      "source": [
        "number=int(input(\"Please choose a number:\"))"
      ],
      "metadata": {
        "colab": {
          "base_uri": "https://localhost:8080/"
        },
        "id": "IHu4-WJuDTub",
        "outputId": "ac75723a-2a60-45dc-e999-0f909d3e7266"
      },
      "execution_count": 2,
      "outputs": [
        {
          "name": "stdout",
          "output_type": "stream",
          "text": [
            "Please choose a number:8\n"
          ]
        }
      ]
    },
    {
      "cell_type": "code",
      "source": [
        "i=0\n",
        "while i in range(number):\n",
        "  print(userName)\n",
        "  i=i+1"
      ],
      "metadata": {
        "colab": {
          "base_uri": "https://localhost:8080/"
        },
        "id": "in0-FNy8Df82",
        "outputId": "f1bf469b-f44f-4e6d-9bfe-4df8c77ad33d"
      },
      "execution_count": 4,
      "outputs": [
        {
          "output_type": "stream",
          "name": "stdout",
          "text": [
            "Wihar\n",
            "Wihar\n",
            "Wihar\n",
            "Wihar\n",
            "Wihar\n",
            "Wihar\n",
            "Wihar\n",
            "Wihar\n"
          ]
        }
      ]
    },
    {
      "cell_type": "code",
      "source": [],
      "metadata": {
        "id": "VE5rmd8FDs-M"
      },
      "execution_count": null,
      "outputs": []
    }
  ]
}