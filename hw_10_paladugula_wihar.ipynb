{
 "cells": [
  {
   "cell_type": "markdown",
   "metadata": {},
   "source": [
    "1. Create a sample code of partitioning. Use 5 as k argumemnt."
   ]
  },
  {
   "cell_type": "code",
   "execution_count": 1,
   "metadata": {},
   "outputs": [
    {
     "name": "stdout",
     "output_type": "stream",
     "text": [
      "[  1   3  29  21  43  45  53  69  75  54  84 143 911]\n"
     ]
    }
   ],
   "source": [
    "import numpy as np\n",
    "\n",
    "def partition_list(input_list, k):\n",
    "    \"\"\"\n",
    "    Partitioning a list such a way that k smallest elements are in the first k positions and remining elements \n",
    "    after k positions.\n",
    "\n",
    "    Parameters:\n",
    "    - input_list: The list to be partitioned.\n",
    "    - k: The number of positions.\n",
    "\n",
    "    Returns:\n",
    "    A list with k smallest elements in the beginning of the list.\n",
    "    \"\"\"\n",
    "    return np.partition(input_list,k)\n",
    "\n",
    "# Example usage:\n",
    "input_list = [911,45,54,21,29,43,143,69,3,1,53,84,75]\n",
    "k = 5\n",
    "\n",
    "result = partition_list(input_list, k)\n",
    "print(result)\n"
   ]
  },
  {
   "cell_type": "markdown",
   "metadata": {},
   "source": [
    "2. Create a sample structure array using following specification:\n",
    "- name: OrderDate, format: unicode maximum 8 characters\n",
    "- name: OrderAmount, format: float 8-bytes\n",
    "- name: OrderNumber, format: integer 4-bytes\n",
    "- name: OrderName, format: unicode maximum 20 characters"
   ]
  },
  {
   "cell_type": "code",
   "execution_count": 2,
   "metadata": {},
   "outputs": [
    {
     "name": "stdout",
     "output_type": "stream",
     "text": [
      "[('OrderDate', '<U8'), ('OrderAmount', '<f8'), ('OrderNumber', '<i4'), ('OrderName', '<U20')]\n"
     ]
    }
   ],
   "source": [
    "# Defining the data types for each field in the structured array\n",
    "data=np.zeros(10,dtype={'names':('OrderDate','OrderAmount','OrderNumber','OrderName'),\n",
    "                       'formats':('U8','f8','i4','U20')})\n",
    "print(data.dtype)"
   ]
  },
  {
   "cell_type": "markdown",
   "metadata": {},
   "source": [
    "3. Using #2, create a NumPy array of 10 elements with proper initialization of the structured array. Note order numbers must be between 101 - 110."
   ]
  },
  {
   "cell_type": "code",
   "execution_count": 3,
   "metadata": {},
   "outputs": [
    {
     "name": "stdout",
     "output_type": "stream",
     "text": [
      "['11012023', '11022023', '11032023', '11042023', '11052023', '11062023', '11072023', '11082023', '11092023', '110102023']\n"
     ]
    }
   ],
   "source": [
    "# generating order dates in the month of november 2023\n",
    "OrderDate=[f'110{i + 1}2023' for i in range(10)]\n",
    "print(OrderDate)           "
   ]
  },
  {
   "cell_type": "code",
   "execution_count": 4,
   "metadata": {},
   "outputs": [
    {
     "data": {
      "text/plain": [
       "[4455.0, 225.0, 1980.0, 2835.0, 1215.0, 720.0, 1350.0, 1800.0, 405.0, 4455.0]"
      ]
     },
     "execution_count": 4,
     "metadata": {},
     "output_type": "execute_result"
    }
   ],
   "source": [
    "# generating Order amounts for each order\n",
    "OrderAmount = [45.0 * np.random.randint(1,100) for _ in range(10)] \n",
    "OrderAmount"
   ]
  },
  {
   "cell_type": "code",
   "execution_count": 5,
   "metadata": {},
   "outputs": [
    {
     "data": {
      "text/plain": [
       "[102, 103, 101, 104, 109, 106, 110, 105, 107, 108]"
      ]
     },
     "execution_count": 5,
     "metadata": {},
     "output_type": "execute_result"
    }
   ],
   "source": [
    "# assigning Order Number for each order\n",
    "OrderNumber = [_ for _ in range(101,111)]\n",
    "np.random.shuffle(OrderNumber)\n",
    "OrderNumber"
   ]
  },
  {
   "cell_type": "code",
   "execution_count": 6,
   "metadata": {},
   "outputs": [
    {
     "name": "stdout",
     "output_type": "stream",
     "text": [
      "['Order102', 'Order103', 'Order101', 'Order104', 'Order109', 'Order106', 'Order110', 'Order105', 'Order107', 'Order108']\n"
     ]
    }
   ],
   "source": [
    "# generating OrderName for each order\n",
    "OrderName = [f'Order{OrderNumber[i]}' for i in range(10)]\n",
    "print(OrderName)"
   ]
  },
  {
   "cell_type": "code",
   "execution_count": 7,
   "metadata": {},
   "outputs": [
    {
     "name": "stdout",
     "output_type": "stream",
     "text": [
      "[('11012023', 4455., 102, 'Order102') ('11022023',  225., 103, 'Order103')\n",
      " ('11032023', 1980., 101, 'Order101') ('11042023', 2835., 104, 'Order104')\n",
      " ('11052023', 1215., 109, 'Order109') ('11062023',  720., 106, 'Order106')\n",
      " ('11072023', 1350., 110, 'Order110') ('11082023', 1800., 105, 'Order105')\n",
      " ('11092023',  405., 107, 'Order107') ('11010202', 4455., 108, 'Order108')]\n"
     ]
    }
   ],
   "source": [
    "# asigning the data to structured array generated in Ques #2\n",
    "data['OrderDate']=OrderDate\n",
    "data['OrderAmount']=OrderAmount\n",
    "data['OrderNumber']=OrderNumber\n",
    "data['OrderName']=OrderName\n",
    "print(data)"
   ]
  },
  {
   "cell_type": "markdown",
   "metadata": {},
   "source": [
    "4. Using the array in #3, filter the array to return orders with order number less than 105. "
   ]
  },
  {
   "cell_type": "code",
   "execution_count": 8,
   "metadata": {},
   "outputs": [
    {
     "name": "stdout",
     "output_type": "stream",
     "text": [
      "[('11012023', 4455., 102, 'Order102') ('11022023',  225., 103, 'Order103')\n",
      " ('11032023', 1980., 101, 'Order101') ('11042023', 2835., 104, 'Order104')]\n"
     ]
    }
   ],
   "source": [
    "# Filtering out orders where ordernumber is less than 105 and printing them\n",
    "print(data[data['OrderNumber']<105])"
   ]
  },
  {
   "cell_type": "markdown",
   "metadata": {},
   "source": [
    "5. Using the code snippet below, fill-in the cell to generate the array as shown at the bottom. \n",
    "- You will need to use fancy indexing and masking. \n",
    "- Select rows with indices 0, 3, 4, 6, 7\n",
    "- Use column masking to return every other columns. The first column will be returned, 2nd column will not and so on. "
   ]
  },
  {
   "cell_type": "code",
   "execution_count": 9,
   "metadata": {},
   "outputs": [],
   "source": [
    "import numpy as np\n",
    "\n",
    "rng = np.random.RandomState(0)\n",
    "x = rng.randint(10, size=(10, 10))"
   ]
  },
  {
   "cell_type": "code",
   "execution_count": 10,
   "metadata": {},
   "outputs": [
    {
     "data": {
      "text/plain": [
       "array([[5, 0, 3, 3, 7, 9, 3, 5, 2, 4],\n",
       "       [7, 6, 8, 8, 1, 6, 7, 7, 8, 1],\n",
       "       [5, 9, 8, 9, 4, 3, 0, 3, 5, 0],\n",
       "       [2, 3, 8, 1, 3, 3, 3, 7, 0, 1],\n",
       "       [9, 9, 0, 4, 7, 3, 2, 7, 2, 0],\n",
       "       [0, 4, 5, 5, 6, 8, 4, 1, 4, 9],\n",
       "       [8, 1, 1, 7, 9, 9, 3, 6, 7, 2],\n",
       "       [0, 3, 5, 9, 4, 4, 6, 4, 4, 3],\n",
       "       [4, 4, 8, 4, 3, 7, 5, 5, 0, 1],\n",
       "       [5, 9, 3, 0, 5, 0, 1, 2, 4, 2]])"
      ]
     },
     "execution_count": 10,
     "metadata": {},
     "output_type": "execute_result"
    }
   ],
   "source": [
    "x"
   ]
  },
  {
   "cell_type": "code",
   "execution_count": 11,
   "metadata": {},
   "outputs": [
    {
     "name": "stdout",
     "output_type": "stream",
     "text": [
      "[[5 3 7 3 2]\n",
      " [2 8 3 3 0]\n",
      " [9 0 7 2 2]\n",
      " [8 1 9 3 7]\n",
      " [0 5 4 6 4]]\n"
     ]
    }
   ],
   "source": [
    "rows = np.array([0, 3, 4, 6, 7]) # selecting the rows 0,3,4,6,7 only\n",
    "cols = np.arange(0, 10, 2) #selecting every alternate column\n",
    "\n",
    "result = x[rows][:, cols]\n",
    "\n",
    "print(result)"
   ]
  },
  {
   "cell_type": "code",
   "execution_count": null,
   "metadata": {},
   "outputs": [],
   "source": []
  }
 ],
 "metadata": {
  "kernelspec": {
   "display_name": "Python 3 (ipykernel)",
   "language": "python",
   "name": "python3"
  },
  "language_info": {
   "codemirror_mode": {
    "name": "ipython",
    "version": 3
   },
   "file_extension": ".py",
   "mimetype": "text/x-python",
   "name": "python",
   "nbconvert_exporter": "python",
   "pygments_lexer": "ipython3",
   "version": "3.11.4"
  }
 },
 "nbformat": 4,
 "nbformat_minor": 4
}
