{
 "cells": [
  {
   "cell_type": "code",
   "execution_count": 1,
   "id": "bf2d5ec9",
   "metadata": {},
   "outputs": [],
   "source": [
    "#Defining counting sort function which will be used in radix sort\n",
    "def counting_sort(lis, exp):\n",
    "    # finding the length of the input list\n",
    "    n = len(lis)\n",
    "    # Initializing the output list with zeros\n",
    "    output = [0] * n\n",
    "    # Initializing a count array to store the count of occurrences of each digit (0 to 9)\n",
    "    count = [0] * 10\n",
    "    \n",
    "    # Counting the occurrences of each digit at the current place value (exp)\n",
    "    for i in range(n):\n",
    "        index = lis[i] // exp\n",
    "        count[index % 10] += 1\n",
    "    \n",
    "    # Modifing the count array to store the actual position of each digit in the output\n",
    "    for i in range(1, 10):\n",
    "        count[i] += count[i - 1]\n",
    "    \n",
    "    # Building the output array by placing elements in their correct sorted order\n",
    "    i = n - 1\n",
    "    while i >= 0:\n",
    "        index = lis[i] // exp\n",
    "        output[count[index % 10] - 1] = lis[i]\n",
    "        count[index % 10] -= 1\n",
    "        i -= 1\n",
    "\n",
    "    for i in range(n):\n",
    "        lis[i] = output[i]\n"
   ]
  },
  {
   "cell_type": "code",
   "execution_count": 2,
   "id": "f431766b",
   "metadata": {},
   "outputs": [],
   "source": [
    "#Implementing Radix sort\n",
    "def radix_sort(lis):\n",
    "    # Finding the maximum number in the list to determine the number of digits in it\n",
    "    max_num = max(lis)\n",
    "    # Initializing the place value (exp) to the least significant digit\n",
    "    exp = 1\n",
    "    \n",
    "    # Continuing the process until the largest place value is reached\n",
    "    while max_num // exp > 0:\n",
    "        # Using count sort to sort the elements based on the current place value (exp)\n",
    "        counting_sort(lis, exp)\n",
    "        # Moving on to the next significant digit place value\n",
    "        exp *= 10\n",
    "    return lis"
   ]
  },
  {
   "cell_type": "code",
   "execution_count": 3,
   "id": "6db59792",
   "metadata": {},
   "outputs": [
    {
     "name": "stdout",
     "output_type": "stream",
     "text": [
      "Enter numbers seperated by space:237 146 159 348 152 163 235 48 36 62\n",
      "Sorted array: [36, 48, 62, 146, 152, 159, 163, 235, 237, 348]\n"
     ]
    }
   ],
   "source": [
    "# lis = [237,146,259,348,152,163,235,48,36,62]\n",
    "lis=[int(x) for x in input(\"Enter numbers seperated by space:\").split(\" \")]\n",
    "sor_lis=radix_sort(lis)\n",
    "print(\"Sorted array:\", sor_lis)"
   ]
  }
 ],
 "metadata": {
  "kernelspec": {
   "display_name": "Python 3 (ipykernel)",
   "language": "python",
   "name": "python3"
  },
  "language_info": {
   "codemirror_mode": {
    "name": "ipython",
    "version": 3
   },
   "file_extension": ".py",
   "mimetype": "text/x-python",
   "name": "python",
   "nbconvert_exporter": "python",
   "pygments_lexer": "ipython3",
   "version": "3.11.4"
  }
 },
 "nbformat": 4,
 "nbformat_minor": 5
}
