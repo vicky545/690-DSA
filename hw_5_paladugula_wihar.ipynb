{
 "cells": [
  {
   "cell_type": "markdown",
   "id": "7b3a4901",
   "metadata": {},
   "source": [
    "**Finger exercise 10.1: Add a method satisfying the specification below\n",
    "to the Int_set class.**"
   ]
  },
  {
   "cell_type": "code",
   "execution_count": 1,
   "id": "b8163976",
   "metadata": {},
   "outputs": [],
   "source": [
    "class Int_set(object):\n",
    "    \"\"\"An Int_set is a set of integers\"\"\"\n",
    "\n",
    "    def __init__(self):\n",
    "        \"\"\"Create an empty set of integers\"\"\"\n",
    "        self._vals = []\n",
    "\n",
    "    def insert(self, e):\n",
    "        \"\"\"Assumes e is an integer and inserts e into self\"\"\"\n",
    "        if e not in self._vals:\n",
    "            self._vals.append(e)\n",
    "\n",
    "    def member(self, e):\n",
    "        \"\"\"Assumes e is an integer\n",
    "           Returns True if e is in self, and False otherwise\"\"\"\n",
    "        return e in self._vals\n",
    "\n",
    "    def remove(self, e):\n",
    "        \"\"\"Assumes e is an integer and removes e from self\n",
    "           Raises ValueError if e is not in self\"\"\"\n",
    "        try:\n",
    "            self._vals.remove(e)\n",
    "        except:\n",
    "            raise ValueError(str(e) + ' not found')\n",
    "\n",
    "    def get_members(self):\n",
    "        \"\"\"Returns a list containing the elements of self._\n",
    "           Nothing can be assumed about the order of the elements\"\"\"\n",
    "        return self._vals[:]\n",
    "    \n",
    "    def union(self, other):\n",
    "        \"\"\"other is an Int_set\n",
    "           mutates self so that it contains exactly the elemnts in self\n",
    "           plus the elements in other.\"\"\"\n",
    "\n",
    "    def __str__(self):\n",
    "        \"\"\"Returns a string representation of self\"\"\"\n",
    "        if self._vals == []:\n",
    "            return '{}'\n",
    "        self._vals.sort()\n",
    "        result = ''\n",
    "        for e in self._vals:\n",
    "            result = result + str(e) + ','\n",
    "        return f'{{{result[:-1]}}}'\n",
    "    def union(self, other):\n",
    "        for element in other.get_members():\n",
    "            self.insert(element)\n",
    "        self._vals = list(set(self._vals))"
   ]
  },
  {
   "cell_type": "code",
   "execution_count": 2,
   "id": "c050b0cb",
   "metadata": {},
   "outputs": [
    {
     "name": "stdout",
     "output_type": "stream",
     "text": [
      "[1, 2, 3, 4]\n"
     ]
    }
   ],
   "source": [
    "my_set = Int_set()\n",
    "my_set.insert(1)\n",
    "my_set.insert(2)\n",
    "\n",
    "other_set = Int_set()\n",
    "other_set.insert(3)\n",
    "other_set.insert(4)\n",
    "\n",
    "my_set.union(other_set)\n",
    "\n",
    "print(my_set.get_members())\n"
   ]
  },
  {
   "cell_type": "markdown",
   "id": "69d95417",
   "metadata": {},
   "source": [
    "**Finger exercise 10.1.1: Replace the union method you added to Int_set\n",
    "by a method that allows clients of Int_set to use the + operator to\n",
    "denote set union.**"
   ]
  },
  {
   "cell_type": "code",
   "execution_count": 3,
   "id": "0e5bf51d",
   "metadata": {},
   "outputs": [],
   "source": [
    "class Int_set(object):\n",
    "    \"\"\"An Int_set is a set of integers\"\"\"\n",
    "\n",
    "    def __init__(self):\n",
    "        \"\"\"Create an empty set of integers\"\"\"\n",
    "        self._vals = []\n",
    "\n",
    "    def insert(self, e):\n",
    "        \"\"\"Assumes e is an integer and inserts e into self\"\"\"\n",
    "        if e not in self._vals:\n",
    "            self._vals.append(e)\n",
    "\n",
    "    def member(self, e):\n",
    "        \"\"\"Assumes e is an integer\n",
    "           Returns True if e is in self, and False otherwise\"\"\"\n",
    "        return e in self._vals\n",
    "\n",
    "    def remove(self, e):\n",
    "        \"\"\"Assumes e is an integer and removes e from self\n",
    "           Raises ValueError if e is not in self\"\"\"\n",
    "        try:\n",
    "            self._vals.remove(e)\n",
    "        except:\n",
    "            raise ValueError(str(e) + ' not found')\n",
    "\n",
    "    def get_members(self):\n",
    "        \"\"\"Returns a list containing the elements of self._\n",
    "           Nothing can be assumed about the order of the elements\"\"\"\n",
    "        return self._vals[:]\n",
    "    \n",
    "    def union(self, other):\n",
    "        \"\"\"other is an Int_set\n",
    "           mutates self so that it contains exactly the elemnts in self\n",
    "           plus the elements in other.\"\"\"\n",
    "\n",
    "    def __str__(self):\n",
    "        \"\"\"Returns a string representation of self\"\"\"\n",
    "        if self._vals == []:\n",
    "            return '{}'\n",
    "        self._vals.sort()\n",
    "        result = ''\n",
    "        for e in self._vals:\n",
    "            result = result + str(e) + ','\n",
    "        return f'{{{result[:-1]}}}'\n",
    "    def __add__(self, other):\n",
    "      new_set = Int_set()\n",
    "      for element in self.get_members():\n",
    "        new_set.insert(element)\n",
    "      for element in other.get_members():\n",
    "        new_set.insert(element)\n",
    "      return new_set"
   ]
  },
  {
   "cell_type": "code",
   "execution_count": 4,
   "id": "8f6d587b",
   "metadata": {},
   "outputs": [
    {
     "name": "stdout",
     "output_type": "stream",
     "text": [
      "[1, 2, 4, 3, 45]\n"
     ]
    }
   ],
   "source": [
    "my_set = Int_set()\n",
    "my_set.insert(1)\n",
    "my_set.insert(2)\n",
    "my_set.insert(4)\n",
    "\n",
    "other_set = Int_set()\n",
    "other_set.insert(3)\n",
    "other_set.insert(4)\n",
    "other_set.insert(45)\n",
    "\n",
    "new_set = my_set + other_set\n",
    "\n",
    "print(new_set.get_members())"
   ]
  },
  {
   "cell_type": "markdown",
   "id": "9d9c05d7",
   "metadata": {},
   "source": [
    "**Finger exercise 10.2: Implement a subclass of Person that meets the\n",
    "specification**\n",
    "\n",
    "class Politician(Person):\n",
    "    \"\"\"A politician is a person who can belong to a political party\"\"\"\n",
    "    \n",
    "    def __init__(self, name, party=None):\n",
    "        \"\"\"name and party are strings\"\"\"\n",
    "        # Constructor code here\n",
    "\n",
    "    def get_party(self):\n",
    "        \"\"\"returns the party to which self belongs\"\"\"\n",
    "        # Method code here\n",
    "\n",
    "    def might_agree(self, other):\n",
    "        \"\"\"returns True if self and other belong to the same party\n",
    "           or at least one of them does not belong to a party\"\"\"\n",
    "        # Method code here\n"
   ]
  },
  {
   "cell_type": "code",
   "execution_count": 5,
   "id": "ee0afc07",
   "metadata": {},
   "outputs": [],
   "source": [
    "import datetime\n",
    "class Person(object):\n",
    "    \n",
    "    def __init__(self, name):\n",
    "        \"\"\"Assumes name a string. Create a person\"\"\"\n",
    "        self._name = name\n",
    "        try:\n",
    "            last_blank = name.rindex(' ')\n",
    "            self._last_name = name[last_blank+1:]\n",
    "        except:\n",
    "            self._last_name = name\n",
    "        self.birthday = None\n",
    "        \n",
    "    def get_name(self):\n",
    "        \"\"\"Returns self's full name\"\"\"\n",
    "        return self._name\n",
    "    \n",
    "    def get_last_name(self):\n",
    "        \"\"\"Returns self's last name\"\"\"\n",
    "        return self._last_name\n",
    "    \n",
    "    def set_birthday(self, birthdate):\n",
    "        \"\"\"Assumes birthdate is of type datetime.date\n",
    "           Sets self's birthday to birthdate\"\"\"\n",
    "        self._birthday = birthdate\n",
    "        \n",
    "    def get_age(self):\n",
    "        \"\"\"Returns self's current age in days\"\"\"\n",
    "        if self._birthday == None:\n",
    "            raise ValueError\n",
    "        return (datetime.date.today() - self._birthday).days\n",
    "    \n",
    "    def __lt__(self, other):\n",
    "        \"\"\"Assume other a Person\n",
    "           Returns True if self precedes other in alphabetical\n",
    "           order, and False otherwise. Comparison is based on last\n",
    "           names, but if these are the same full names are\n",
    "           compared.\"\"\"\n",
    "        if self._last_name == other._last_name:\n",
    "            return self._name < other._name\n",
    "        return self._last_name < other._last_name\n",
    "    \n",
    "    def __str__(self):\n",
    "        \"\"\"Returns self's name\"\"\"\n",
    "        return self._name"
   ]
  },
  {
   "cell_type": "code",
   "execution_count": 6,
   "id": "3dbbda29",
   "metadata": {},
   "outputs": [],
   "source": [
    "class Politician(Person):\n",
    "  def __init__(self, name, party=None):\n",
    "    super().__init__(name)\n",
    "    self.party = party\n",
    "\n",
    "  def get_party(self):\n",
    "    return self.party\n",
    "\n",
    "  def might_agree(self, other):\n",
    "    return self.party == other.party or self.party is None or other.party is None\n"
   ]
  },
  {
   "cell_type": "code",
   "execution_count": 7,
   "id": "a006863a",
   "metadata": {},
   "outputs": [],
   "source": [
    "politician1 = Politician(\"John Doe\", \"Democrat\")\n",
    "politician2 = Politician(\"Jane Doe\", \"Republican\")\n"
   ]
  },
  {
   "cell_type": "code",
   "execution_count": 8,
   "id": "c39e591a",
   "metadata": {},
   "outputs": [
    {
     "name": "stdout",
     "output_type": "stream",
     "text": [
      "Democrat\n",
      "Republican\n",
      "False\n"
     ]
    }
   ],
   "source": [
    "print(politician1.get_party())\n",
    "print(politician2.get_party())\n",
    "print(politician1.might_agree(politician2))  \n"
   ]
  },
  {
   "cell_type": "code",
   "execution_count": 9,
   "id": "044a1d62",
   "metadata": {},
   "outputs": [],
   "source": [
    "politician3 = Politician(\"John Doe\", \"Democrat\")\n",
    "politician4 = Politician(\"Jane Doe\", \"Democrat\")\n"
   ]
  },
  {
   "cell_type": "code",
   "execution_count": 10,
   "id": "181da056",
   "metadata": {},
   "outputs": [
    {
     "name": "stdout",
     "output_type": "stream",
     "text": [
      "Democrat\n",
      "Democrat\n",
      "True\n"
     ]
    }
   ],
   "source": [
    "print(politician3.get_party())  \n",
    "print(politician4.get_party()) \n",
    "print(politician3.might_agree(politician4)) \n"
   ]
  },
  {
   "cell_type": "markdown",
   "id": "c889484b",
   "metadata": {},
   "source": [
    "**Finger exercise 10.3.1: Add to Grades a generator that meets the\n",
    "specification**"
   ]
  },
  {
   "cell_type": "code",
   "execution_count": 11,
   "id": "f0c24c2d",
   "metadata": {},
   "outputs": [],
   "source": [
    "class Grades(object):\n",
    "\n",
    "    def __init__(self):\n",
    "        \"\"\"Create empty grade book\"\"\"\n",
    "        self._students = []\n",
    "        self._grades = {}\n",
    "        self._is_sorted = True\n",
    "\n",
    "    def add_student(self, student):\n",
    "        \"\"\"Assumes: student is of type Student\n",
    "           Add student to the grade book\"\"\"\n",
    "        if student in self._students:\n",
    "            raise ValueError('Duplicate student')\n",
    "        self._students.append(student)\n",
    "        self._grades[student.get_id_num()] = []\n",
    "        self._is_sorted = False\n",
    "\n",
    "    def add_grade(self, student, grade):\n",
    "        \"\"\"Assumes: grade is a float\n",
    "           Add grade to the list of grades for student\"\"\"\n",
    "        try:\n",
    "            self._grades[student.get_id_num()].append(grade)\n",
    "        except:\n",
    "            raise ValueError('Student not in mapping')\n",
    "\n",
    "    def get_grades(self, student):\n",
    "        \"\"\"Return a list of grades for student\"\"\"\n",
    "        try:\n",
    "            return self._grades[student.get_id_num()][:]\n",
    "        except:\n",
    "            raise ValueError('Student not in mapping')\n",
    "\n",
    "    def get_students(self):\n",
    "        \"\"\"Return a sorted list of the students in the grade book\"\"\"\n",
    "        if not self._is_sorted:\n",
    "            self._students.sort()\n",
    "            self._is_sorted = True\n",
    "        return self._students[:]\n",
    "    def get_students_above(self, grade):\n",
    "        \"\"\"Return students with a mean grade > grade, one at a time\"\"\"\n",
    "        for student in self.get_students():\n",
    "            student_grades = self.get_grades(student)\n",
    "            mean_grade = sum(student_grades) / len(student_grades)\n",
    "            if mean_grade > grade:\n",
    "                yield student\n",
    "                "
   ]
  },
  {
   "cell_type": "code",
   "execution_count": 12,
   "id": "5ce60b66",
   "metadata": {},
   "outputs": [],
   "source": [
    "class Student:\n",
    "\n",
    "    def __init__(self, name, id_num):\n",
    "        self.name = name\n",
    "        self.id_num = id_num\n",
    "\n",
    "    def get_name(self):\n",
    "        return self.name\n",
    "    \n",
    "    def get_id_num(self):\n",
    "        return self.id_num\n",
    "    def __lt__(self, other):\n",
    "        return self.id_num < other.id_num"
   ]
  },
  {
   "cell_type": "code",
   "execution_count": 13,
   "id": "a40046a4",
   "metadata": {},
   "outputs": [
    {
     "name": "stdout",
     "output_type": "stream",
     "text": [
      "John\n",
      "Peter\n"
     ]
    }
   ],
   "source": [
    "gradebook = Grades()\n",
    "\n",
    "john = Student('John', 1)\n",
    "mary = Student('Mary', 2)\n",
    "peter = Student('Peter', 3)\n",
    "gradebook.add_student(john)\n",
    "gradebook.add_student(mary) \n",
    "gradebook.add_student(peter)\n",
    "\n",
    "gradebook.add_grade(john, 80)\n",
    "gradebook.add_grade(john, 90)\n",
    "gradebook.add_grade(mary, 50)\n",
    "gradebook.add_grade(mary, 60)\n",
    "gradebook.add_grade(peter, 95)\n",
    "gradebook.add_grade(peter, 85)\n",
    "\n",
    "for student in gradebook.get_students_above(80):\n",
    "    print(student.get_name())\n"
   ]
  },
  {
   "cell_type": "code",
   "execution_count": null,
   "id": "cf7211a0",
   "metadata": {},
   "outputs": [],
   "source": []
  }
 ],
 "metadata": {
  "kernelspec": {
   "display_name": "Python 3 (ipykernel)",
   "language": "python",
   "name": "python3"
  },
  "language_info": {
   "codemirror_mode": {
    "name": "ipython",
    "version": 3
   },
   "file_extension": ".py",
   "mimetype": "text/x-python",
   "name": "python",
   "nbconvert_exporter": "python",
   "pygments_lexer": "ipython3",
   "version": "3.11.4"
  }
 },
 "nbformat": 4,
 "nbformat_minor": 5
}
