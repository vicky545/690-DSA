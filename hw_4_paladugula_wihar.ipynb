{
 "cells": [
  {
   "cell_type": "markdown",
   "id": "7d85dc7e",
   "metadata": {},
   "source": [
    "**Finger exercise 6: The harmonic sum of an integer, n > 0, can be\n",
    "calculated using the formula . Write a recursive function\n",
    "that computes this.**"
   ]
  },
  {
   "cell_type": "code",
   "execution_count": 8,
   "id": "ca9e4c8b",
   "metadata": {},
   "outputs": [
    {
     "name": "stdout",
     "output_type": "stream",
     "text": [
      "The harmonic sum of 6 is 2.4500\n"
     ]
    }
   ],
   "source": [
    "def harmonic_sum(n):\n",
    "    if n == 1:\n",
    "        return 1\n",
    "    else:\n",
    "        return harmonic_sum(n - 1) + 1/ n\n",
    "\n",
    "n = 6\n",
    "result = harmonic_sum(n)\n",
    "print(f\"The harmonic sum of {n} is {result:.4f}\")"
   ]
  },
  {
   "cell_type": "markdown",
   "id": "31a19a3d",
   "metadata": {},
   "source": [
    "**Finger exercise 6.1 : When the implementation of fib in Figure 6-3 is\n",
    "used to compute fib(5), how many times does it compute the value\n",
    "of fib(2) on the way to computing fib(5)?**"
   ]
  },
  {
   "cell_type": "markdown",
   "id": "8ab56a0c",
   "metadata": {},
   "source": [
    "- fib(5) calls fib(4) and fib(3) <br>\n",
    "- fib(4) calls fib(3) and fib(2) <br>\n",
    "- fib(3) calls fib(2) and fib(1) <br>\n",
    "\n",
    "Hence **fib(2)** is called **twice**."
   ]
  },
  {
   "cell_type": "markdown",
   "id": "aff56d53",
   "metadata": {},
   "source": [
    "**Finger exercise 7.2: Write a function that meets the specification**"
   ]
  },
  {
   "cell_type": "code",
   "execution_count": 11,
   "id": "afb22e60",
   "metadata": {},
   "outputs": [
    {
     "name": "stdout",
     "output_type": "stream",
     "text": [
      "Number of shopping days between Thanksgiving and Christmas in 1998 is: 29 days\n"
     ]
    }
   ],
   "source": [
    "#  def shopping_days(year):\n",
    "#  \"\"\"year a number >= 1941\n",
    "#  returns the number of days between U.S. Thanksgiving\n",
    "# and\n",
    "#  Christmas in year\"\"\"\n",
    "\n",
    "from datetime import date, timedelta\n",
    "\n",
    "def shopping_days(year):\n",
    "    # since thanksgiving is 4th thursday of November\n",
    "    #initially we find the first thursday and then add 3 weeks to get 4th Thurday of November\n",
    "    thanksgiving = date(year, 11, 1)\n",
    "    while thanksgiving.weekday() != 3:\n",
    "        thanksgiving += timedelta(days=1)\n",
    "    thanksgiving += timedelta(weeks=3)\n",
    "\n",
    "    christmas = date(year, 12, 25)\n",
    "\n",
    "    days_between = christmas - thanksgiving\n",
    "\n",
    "    return days_between.days\n",
    "\n",
    "\n",
    "year = 1998\n",
    "days = shopping_days(year)\n",
    "print(f\"Number of shopping days between Thanksgiving and Christmas in {year} is: {days} days\")\n"
   ]
  },
  {
   "cell_type": "markdown",
   "id": "f5f74655",
   "metadata": {},
   "source": [
    "**Finger exercise 9.1 : Implement a function that meets the specification\n",
    "below. Use a try-except block**"
   ]
  },
  {
   "cell_type": "code",
   "execution_count": 15,
   "id": "adcc6def",
   "metadata": {},
   "outputs": [
    {
     "name": "stdout",
     "output_type": "stream",
     "text": [
      "The sum of integer digits in '23sd4fg8' is 17\n"
     ]
    }
   ],
   "source": [
    "def sum_digits(s):\n",
    "    total = 0\n",
    "    for char in s:\n",
    "        try:\n",
    "        \n",
    "            digit = int(char)\n",
    "            total += digit\n",
    "        except ValueError:\n",
    "            pass\n",
    "    return total\n",
    "\n",
    "s = '23sd4fg8'\n",
    "result = sum_digits(s)\n",
    "print(f\"The sum of integer digits in '{s}' is {result}\")"
   ]
  },
  {
   "cell_type": "markdown",
   "id": "862edfa4",
   "metadata": {},
   "source": [
    "**Finger exercise 9.2: Implement a function that satisfies the\n",
    "specification**"
   ]
  },
  {
   "cell_type": "code",
   "execution_count": 18,
   "id": "bce3b074",
   "metadata": {},
   "outputs": [
    {
     "name": "stdout",
     "output_type": "stream",
     "text": [
      "No even number found in the list\n"
     ]
    }
   ],
   "source": [
    "def find_an_even(L):\n",
    "    for number in L:\n",
    "        if number % 2 == 0:\n",
    "            return number\n",
    "    raise ValueError(\"No even number found in the list\")\n",
    "\n",
    "L = [1, 3, 5, 7, 3, 9, 15]\n",
    "try:\n",
    "    even_number = find_an_even(L)\n",
    "    print(f\"The first even number in the list is {even_number}\")\n",
    "except ValueError as e:\n",
    "    print(e)\n"
   ]
  },
  {
   "cell_type": "code",
   "execution_count": null,
   "id": "04c03fa6",
   "metadata": {},
   "outputs": [],
   "source": []
  }
 ],
 "metadata": {
  "kernelspec": {
   "display_name": "Python 3 (ipykernel)",
   "language": "python",
   "name": "python3"
  },
  "language_info": {
   "codemirror_mode": {
    "name": "ipython",
    "version": 3
   },
   "file_extension": ".py",
   "mimetype": "text/x-python",
   "name": "python",
   "nbconvert_exporter": "python",
   "pygments_lexer": "ipython3",
   "version": "3.11.4"
  }
 },
 "nbformat": 4,
 "nbformat_minor": 5
}
