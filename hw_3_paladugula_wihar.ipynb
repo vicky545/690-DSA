{
 "cells": [
  {
   "cell_type": "markdown",
   "id": "df1531ff",
   "metadata": {},
   "source": [
    "**Finger exercise 5.2: Write an expression that evaluates to the mean of\n",
    "a tuple of numbers. Use the function sum.**\n"
   ]
  },
  {
   "cell_type": "code",
   "execution_count": 1,
   "id": "6ac3980c",
   "metadata": {},
   "outputs": [
    {
     "name": "stdout",
     "output_type": "stream",
     "text": [
      "Enter a list of numbers seperated by space:7 5 3 1 5 9\n",
      "Mean is 5.0\n"
     ]
    }
   ],
   "source": [
    "tuple1=tuple(map(int,input(\"Enter a list of numbers seperated by space:\").split()))\n",
    "mean=sum(tuple1)/len(tuple1)\n",
    "print(\"Mean is\",mean)"
   ]
  },
  {
   "cell_type": "markdown",
   "id": "3713c9b5",
   "metadata": {},
   "source": [
    "**Finger exercise 5.3 : What does the following code print?**"
   ]
  },
  {
   "cell_type": "code",
   "execution_count": 2,
   "id": "f8ccd026",
   "metadata": {},
   "outputs": [
    {
     "name": "stdout",
     "output_type": "stream",
     "text": [
      "True\n"
     ]
    }
   ],
   "source": [
    "L = [1, 2, 3]\n",
    "L.append(L)\n",
    "print(L is L[-1])"
   ]
  },
  {
   "cell_type": "code",
   "execution_count": 3,
   "id": "02a88fec",
   "metadata": {},
   "outputs": [
    {
     "data": {
      "text/plain": [
       "[1, 2, 3, [...]]"
      ]
     },
     "execution_count": 3,
     "metadata": {},
     "output_type": "execute_result"
    }
   ],
   "source": [
    "L"
   ]
  },
  {
   "cell_type": "code",
   "execution_count": 4,
   "id": "10bb06cf",
   "metadata": {},
   "outputs": [
    {
     "data": {
      "text/plain": [
       "[1, 2, 3, [...]]"
      ]
     },
     "execution_count": 4,
     "metadata": {},
     "output_type": "execute_result"
    }
   ],
   "source": [
    "L[-1]"
   ]
  },
  {
   "cell_type": "markdown",
   "id": "0b14e415",
   "metadata": {},
   "source": [
    "- When we append the list `L` to itself, it becomes recursive, meaning it contains a reference to itself.\n",
    "- The expression `L is L[-1]` is checking whether the list `L` is identical to its last element, which is also `L` itself.\n",
    "- The result is `True` because both `L` and `L[-1]` are referring to the same object in memory."
   ]
  },
  {
   "cell_type": "markdown",
   "id": "88081538",
   "metadata": {},
   "source": [
    "**Finger exercise 5.3.2 :Write a list comprehension that generates all\n",
    "non-primes between 2 and 100.**"
   ]
  },
  {
   "cell_type": "code",
   "execution_count": 5,
   "id": "e5c77746",
   "metadata": {},
   "outputs": [
    {
     "name": "stdout",
     "output_type": "stream",
     "text": [
      "[4, 6, 8, 9, 10, 12, 14, 15, 16, 18, 20, 21, 22, 24, 25, 26, 27, 28, 30, 32, 33, 34, 35, 36, 38, 39, 40, 42, 44, 45, 46, 48, 49, 50, 51, 52, 54, 55, 56, 57, 58, 60, 62, 63, 64, 65, 66, 68, 69, 70, 72, 74, 75, 76, 77, 78, 80, 81, 82, 84, 85, 86, 87, 88, 90, 91, 92, 93, 94, 95, 96, 98, 99, 100]\n"
     ]
    }
   ],
   "source": [
    "non_primes = [x for x in range(2, 101) if any(x % y == 0 for y in range(2, int(x/2) + 1))]\n",
    "print(non_primes)"
   ]
  },
  {
   "cell_type": "markdown",
   "id": "f31bedd9",
   "metadata": {},
   "source": [
    "**Finger exercise 5.4 : Implement a function satisfying the following\n",
    "specification. Hint: it will be convenient to use lambda in the body of\n",
    "the implementation.**"
   ]
  },
  {
   "cell_type": "code",
   "execution_count": 6,
   "id": "23fd394a",
   "metadata": {},
   "outputs": [
    {
     "name": "stdout",
     "output_type": "stream",
     "text": [
      "9\n"
     ]
    }
   ],
   "source": [
    "# def f(L1, L2):\n",
    "#  \"\"\"L1, L2 lists of same length of numbers\n",
    "#  returns the sum of raising each element in L1\n",
    "#  to the power of the element at the same index in L2\n",
    "#  For example, f([1,2], [2,3]) returns 9\"\"\"\n",
    "func= lambda L1, L2: sum(map(lambda x, y: x ** y, L1, L2))\n",
    "L1,L2=[1,2], [2,3]\n",
    "print(func(L1,L2))"
   ]
  },
  {
   "cell_type": "code",
   "execution_count": null,
   "id": "c7643510",
   "metadata": {},
   "outputs": [],
   "source": []
  }
 ],
 "metadata": {
  "kernelspec": {
   "display_name": "Python 3 (ipykernel)",
   "language": "python",
   "name": "python3"
  },
  "language_info": {
   "codemirror_mode": {
    "name": "ipython",
    "version": 3
   },
   "file_extension": ".py",
   "mimetype": "text/x-python",
   "name": "python",
   "nbconvert_exporter": "python",
   "pygments_lexer": "ipython3",
   "version": "3.11.4"
  }
 },
 "nbformat": 4,
 "nbformat_minor": 5
}
