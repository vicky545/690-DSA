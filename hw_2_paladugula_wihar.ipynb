{
  "cells": [
    {
      "cell_type": "markdown",
      "id": "d60086fe",
      "metadata": {
        "id": "d60086fe"
      },
      "source": [
        "**Finger Exercise 3.1**"
      ]
    },
    {
      "cell_type": "markdown",
      "id": "27cb639e",
      "metadata": {
        "id": "27cb639e"
      },
      "source": [
        "**Change the code in Figure 3-2 so that it returns\n",
        "the largest rather than the smallest divisor.**"
      ]
    },
    {
      "cell_type": "code",
      "execution_count": 1,
      "id": "dea8c07b",
      "metadata": {
        "colab": {
          "base_uri": "https://localhost:8080/"
        },
        "id": "dea8c07b",
        "outputId": "6bd4d692-9979-4f4e-aa61-c5f22b7da2d7"
      },
      "outputs": [
        {
          "output_type": "stream",
          "name": "stdout",
          "text": [
            "Enter a number greater than 2:97\n",
            "97 is prime\n"
          ]
        }
      ],
      "source": [
        "x=int(input(\"Enter a number greater than 2:\"))\n",
        "for i in range(x-1,1,-1):  #or range(int(x/2),1,-1) since any number greater than x/2 is not divisible by itself\n",
        "    if x%i==0:\n",
        "        print(\"Largest divisor of\",str(x),\"is\",str(i))\n",
        "        break\n",
        "else:\n",
        "    print(str(x),\"is prime\")"
      ]
    },
    {
      "cell_type": "markdown",
      "id": "1322aba3",
      "metadata": {
        "id": "1322aba3"
      },
      "source": [
        "**Write a program that asks the user to enter an\n",
        "integer and prints two integers, root and pwr, such that 1 < pwr < 6\n",
        "and root ** pwr is equal to the integer entered by the user. If no such\n",
        "pair of integers exists, it should print a message to that effect.**"
      ]
    },
    {
      "cell_type": "code",
      "execution_count": 2,
      "id": "d1917d90",
      "metadata": {
        "colab": {
          "base_uri": "https://localhost:8080/"
        },
        "id": "d1917d90",
        "outputId": "65729b75-d668-4340-f86a-1424f35f5512"
      },
      "outputs": [
        {
          "output_type": "stream",
          "name": "stdout",
          "text": [
            "Enter an integer: 16\n",
            "root = 2 , pwr = 4\n"
          ]
        }
      ],
      "source": [
        "choice = int(input(\"Enter an integer: \"))\n",
        "\n",
        "flag = False\n",
        "\n",
        "for root in range(2, choice):\n",
        "    for pwr in range(2, 6):\n",
        "        if root ** pwr == choice:\n",
        "            print(\"root =\",str(root),\", pwr =\",str(pwr))\n",
        "            flag = True\n",
        "    if flag:\n",
        "        break\n",
        "\n",
        "if not flag:\n",
        "    print(\"No such pair of integers exists.\")\n"
      ]
    },
    {
      "cell_type": "markdown",
      "id": "0f580a3e",
      "metadata": {
        "id": "0f580a3e"
      },
      "source": [
        "**Write a program that prints the sum of the prime\n",
        "numbers greater than 2 and less than 1000.**"
      ]
    },
    {
      "cell_type": "code",
      "execution_count": 3,
      "id": "662bb7d0",
      "metadata": {
        "colab": {
          "base_uri": "https://localhost:8080/"
        },
        "id": "662bb7d0",
        "outputId": "f26876dc-1111-4e28-d04d-ca99cce315bd"
      },
      "outputs": [
        {
          "output_type": "stream",
          "name": "stdout",
          "text": [
            "76125\n"
          ]
        }
      ],
      "source": [
        "sum_primes=0\n",
        "for i in range(3,1000):\n",
        "    for j in range(2,i):\n",
        "        if i%j==0:\n",
        "            break\n",
        "    else:\n",
        "        sum_primes+=i\n",
        "print(sum_primes)\n",
        "\n",
        "#alternate code\n",
        "# primes = [x for x in range(3, 1000) if all(x % y != 0 for y in range(2, int(x/2) + 1))]\n",
        "# sum(primes)"
      ]
    },
    {
      "cell_type": "markdown",
      "id": "f88694bc",
      "metadata": {
        "id": "f88694bc"
      },
      "source": [
        "**Finger Exercise 4.1.1**"
      ]
    },
    {
      "cell_type": "markdown",
      "id": "510bcbba",
      "metadata": {
        "id": "510bcbba"
      },
      "source": [
        "**Use the find_root function in Figure 4-3 to print\n",
        "the sum of approximations to the square root of 25, the cube root of\n",
        "-8, and the fourth root of 16. Use 0.001 as epsilon.**"
      ]
    },
    {
      "cell_type": "code",
      "execution_count": 4,
      "id": "8cbff8d0",
      "metadata": {
        "colab": {
          "base_uri": "https://localhost:8080/"
        },
        "id": "8cbff8d0",
        "outputId": "3d45cac9-04b0-413e-a14f-2dd551abc7d5"
      },
      "outputs": [
        {
          "output_type": "stream",
          "name": "stdout",
          "text": [
            "Sum of approximations: 4.999988555908203\n"
          ]
        }
      ],
      "source": [
        "def find_root(x, power, epsilon):\n",
        "    if x<0 and power % 2 == 0:\n",
        "        return None\n",
        "    low = min(-1,x)\n",
        "    high = max(1,x)\n",
        "    ans = (low + high) / 2\n",
        "    while abs(ans**power - x) >= epsilon:\n",
        "        if ans**power < x:\n",
        "            low = ans\n",
        "        else:\n",
        "            high = ans\n",
        "        ans=(low + high) / 2\n",
        "    return ans\n",
        "\n",
        "epsilon = 0.001\n",
        "square_root_25 = find_root(25, 2, epsilon)\n",
        "cube_root_minus_8 = find_root(-8, 3, epsilon)\n",
        "fourth_root_16 = find_root(16, 4, epsilon)\n",
        "\n",
        "if square_root_25 is not None and cube_root_minus_8 is not None and fourth_root_16 is not None:\n",
        "    sum_of_approximations = square_root_25 + cube_root_minus_8 + fourth_root_16\n",
        "    print(\"Sum of approximations:\", sum_of_approximations)\n",
        "else:\n",
        "    print(\"One or more roots did not have real solutions.\")"
      ]
    },
    {
      "cell_type": "markdown",
      "id": "30f95e32",
      "metadata": {
        "id": "30f95e32"
      },
      "source": [
        "**Write a function is_in that accepts two strings as\n",
        "arguments and returns True if either string occurs anywhere in the\n",
        "other, and False otherwise.**"
      ]
    },
    {
      "cell_type": "code",
      "execution_count": 5,
      "id": "0d45ac9d",
      "metadata": {
        "colab": {
          "base_uri": "https://localhost:8080/"
        },
        "id": "0d45ac9d",
        "outputId": "12bbb952-e1dc-404a-d000-f571215284db"
      },
      "outputs": [
        {
          "output_type": "stream",
          "name": "stdout",
          "text": [
            "Enter string1:is\n",
            "Enter string2:he is a great man\n",
            "strings are substrings\n"
          ]
        }
      ],
      "source": [
        "def search(str1,str2):\n",
        "    if str1 in str2 or str2 in str1:\n",
        "        return True\n",
        "    else:\n",
        "        return False\n",
        "str1=input(\"Enter string1:\")\n",
        "str2=input(\"Enter string2:\")\n",
        "sol=search(str1,str2)\n",
        "if sol:\n",
        "    print(\"strings are substrings\")\n",
        "else:\n",
        "    print(\"strings are not substrings\")\n",
        "\n",
        ""
      ]
    },
    {
      "cell_type": "markdown",
      "id": "e0604a1b",
      "metadata": {
        "id": "e0604a1b"
      },
      "source": [
        "**Finger Exercise 4.1.2:  Write a function mult that accepts either one or\n",
        "two ints as arguments. If called with two arguments, the function\n",
        "prints the product of the two arguments. If called with one argument,\n",
        "it prints that argument.**"
      ]
    },
    {
      "cell_type": "code",
      "execution_count": 6,
      "id": "cea37675",
      "metadata": {
        "colab": {
          "base_uri": "https://localhost:8080/"
        },
        "id": "cea37675",
        "outputId": "e5788c74-bb52-4a65-d2c6-14d6dad964b0"
      },
      "outputs": [
        {
          "output_type": "stream",
          "name": "stdout",
          "text": [
            "6\n",
            "5\n"
          ]
        }
      ],
      "source": [
        "def mult(x,y=False):\n",
        "    if y:\n",
        "        print(x*y)\n",
        "    else:\n",
        "        print(x)\n",
        "mult(2,3)\n",
        "mult(5)"
      ]
    },
    {
      "cell_type": "markdown",
      "id": "78e04a85",
      "metadata": {
        "id": "78e04a85"
      },
      "source": [
        "**Finger exercise 4.2: Using the algorithm of Figure 3-6, write a\n",
        "function that satisfies the specification**"
      ]
    },
    {
      "cell_type": "code",
      "execution_count": 7,
      "id": "f4ba84b2",
      "metadata": {
        "colab": {
          "base_uri": "https://localhost:8080/"
        },
        "id": "f4ba84b2",
        "outputId": "a3aa7376-64d5-48fb-ac51-bcffc62d090d"
      },
      "outputs": [
        {
          "output_type": "stream",
          "name": "stdout",
          "text": [
            "3.0 is close to the log base 3 of 27\n"
          ]
        }
      ],
      "source": [
        "def log(x, base, epsilon):\n",
        "  lower_bound=0\n",
        "  while base**lower_bound<x:\n",
        "    lower_bound+=1\n",
        "  low=lower_bound-1\n",
        "  high=lower_bound+1\n",
        "  ans=(high+low)/2\n",
        "  while abs(base**ans -x)>=epsilon:\n",
        "    if base**ans <x:\n",
        "      low=ans\n",
        "    else:\n",
        "      high=ans\n",
        "    ans=(high+low)/2\n",
        "  return ans\n",
        "\n",
        "x = 27\n",
        "base = 3\n",
        "epsilon = 0.001\n",
        "result = log(x, base, epsilon)\n",
        "print(result, 'is close to the log base', base, 'of', x)\n",
        "\n",
        "# def log(x, base, epsilon):\n",
        "#  \"\"\"Assumes x and epsilon int or float, base an int,\n",
        "#  x > 1, epsilon > 0 & power >= 1\n",
        "#  Returns float y such that base**y is within epsilon\n",
        "# of x.\"\"\""
      ]
    }
  ],
  "metadata": {
    "kernelspec": {
      "display_name": "Python 3 (ipykernel)",
      "language": "python",
      "name": "python3"
    },
    "language_info": {
      "codemirror_mode": {
        "name": "ipython",
        "version": 3
      },
      "file_extension": ".py",
      "mimetype": "text/x-python",
      "name": "python",
      "nbconvert_exporter": "python",
      "pygments_lexer": "ipython3",
      "version": "3.8.16"
    },
    "colab": {
      "provenance": []
    }
  },
  "nbformat": 4,
  "nbformat_minor": 5
}