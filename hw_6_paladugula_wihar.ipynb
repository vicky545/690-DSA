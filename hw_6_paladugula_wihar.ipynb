{
 "cells": [
  {
   "cell_type": "markdown",
   "id": "5f5c43f8",
   "metadata": {},
   "source": [
    "**Finger exercise: What is the asymptotic complexity of each of the\n",
    "following functions?**"
   ]
  },
  {
   "cell_type": "markdown",
   "id": "fbd7d7f4",
   "metadata": {},
   "source": [
    "```python\n",
    "def g(L, e):\n",
    " \"\"\"L a list of ints, e is an int\"\"\"\n",
    " for i in range(100):\n",
    "  for e1 in L:\n",
    "     if e1 == e:\n",
    "      return True\n",
    " return False\n",
    "```"
   ]
  },
  {
   "cell_type": "markdown",
   "id": "40393347",
   "metadata": {},
   "source": [
    "- The loop executes 100 * n where n is length of list L.\n",
    "- Hence asymptotic complexity of g(L, e) is **O(n)**."
   ]
  },
  {
   "cell_type": "markdown",
   "id": "fd456e0e",
   "metadata": {},
   "source": [
    "```python\n",
    "def h(L, e):\n",
    " \"\"\"L a list of ints, e is an int\"\"\"\n",
    " for i in range(e):\n",
    "     for e1 in L:\n",
    "         if e1 == e:\n",
    "          return True\n",
    " return False\n",
    "```"
   ]
  },
  {
   "cell_type": "markdown",
   "id": "7dc8799d",
   "metadata": {},
   "source": [
    "- The outer lopp runs e times and in worst case the inner loop iterates the length of list lets say n. Therefore loop executes e*n times.\n",
    "- Hence the asymptotic complexity of h(L, e) is **O(e*n)**."
   ]
  },
  {
   "cell_type": "code",
   "execution_count": null,
   "id": "d1cee0b5",
   "metadata": {},
   "outputs": [],
   "source": []
  }
 ],
 "metadata": {
  "kernelspec": {
   "display_name": "Python 3 (ipykernel)",
   "language": "python",
   "name": "python3"
  },
  "language_info": {
   "codemirror_mode": {
    "name": "ipython",
    "version": 3
   },
   "file_extension": ".py",
   "mimetype": "text/x-python",
   "name": "python",
   "nbconvert_exporter": "python",
   "pygments_lexer": "ipython3",
   "version": "3.11.4"
  }
 },
 "nbformat": 4,
 "nbformat_minor": 5
}
